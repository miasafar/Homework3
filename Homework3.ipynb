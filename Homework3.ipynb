{
 "cells": [
  {
   "cell_type": "code",
   "execution_count": 47,
   "id": "f33999ec",
   "metadata": {},
   "outputs": [
    {
     "name": "stdout",
     "output_type": "stream",
     "text": [
      "<function averageGrade at 0x1108e2d30>\n"
     ]
    }
   ],
   "source": [
    "#Question 1#\n",
    "marks = {\"Andy\": 88, \"Amy\": 66, \"James\":90, \"Jules\": 55, \"Arthur\": 77}\n",
    "\n",
    "def gradeSearch(studentname):\n",
    "    cantfind = 0\n",
    "    for name, grade in marks.ietms():\n",
    "        if studentname == name:\n",
    "            return marks[studentname]\n",
    "        else:\n",
    "            cantfind = 1\n",
    "    if cantfind == 1:\n",
    "        print (studentname + \"Entry cannot be found\")\n",
    "\n",
    "\n",
    "#Question 1 part2#\n",
    "def averageGrade(grades):\n",
    "    return sum(grades)/len(grades)\n",
    "grades = marks.keys()\n",
    "print(averageGrade)\n"
   ]
  },
  {
   "cell_type": "code",
   "execution_count": 23,
   "id": "7403f9c7",
   "metadata": {},
   "outputs": [
    {
     "name": "stdout",
     "output_type": "stream",
     "text": [
      "0\n",
      "square: 1\n",
      "1\n",
      "square: 4\n",
      "2\n",
      "square: 9\n",
      "3\n",
      "square: 16\n",
      "4\n",
      "square: 25\n",
      "5\n",
      "square: 36\n",
      "6\n",
      "square: 49\n",
      "7\n",
      "square: 64\n",
      "8\n",
      "square: 81\n",
      "greater than 8\n"
     ]
    }
   ],
   "source": [
    "#Question 2\n",
    "\n",
    "def square(num):\n",
    "    n = 0\n",
    "    while n <= num:\n",
    "        print(n)\n",
    "        n+=1\n",
    "        square = n*n\n",
    "        print(\"square:\", square)\n",
    "              \n",
    "    else: \n",
    "        print (\"greater than\", num)\n",
    "        \n",
    "square(8)"
   ]
  },
  {
   "cell_type": "code",
   "execution_count": 24,
   "id": "1e638360",
   "metadata": {},
   "outputs": [
    {
     "name": "stdout",
     "output_type": "stream",
     "text": [
      "55\n"
     ]
    }
   ],
   "source": [
    "#Question 3\n",
    "\n",
    "def sums(num):\n",
    "    n = 1\n",
    "    sum = 0\n",
    "    while n <=num:\n",
    "        sum = sum+n\n",
    "        n = n+1\n",
    "    print(sum)\n",
    "\n",
    "sums(10)"
   ]
  },
  {
   "cell_type": "code",
   "execution_count": 25,
   "id": "d6bd698d",
   "metadata": {},
   "outputs": [
    {
     "name": "stdout",
     "output_type": "stream",
     "text": [
      "28\n"
     ]
    }
   ],
   "source": [
    "#Question 4\n",
    "\n",
    "def sumRange(num):\n",
    "    sum = 0\n",
    "    for n in range(num):\n",
    "        sum = sum + n\n",
    "    print(sum)\n",
    "    \n",
    "sumRange(8)"
   ]
  },
  {
   "cell_type": "code",
   "execution_count": 76,
   "id": "3cfbf598",
   "metadata": {},
   "outputs": [
    {
     "ename": "SyntaxError",
     "evalue": "invalid syntax (2023163108.py, line 6)",
     "output_type": "error",
     "traceback": [
      "\u001b[0;36m  File \u001b[0;32m\"/var/folders/xk/8ffpc6x13xxc97ml31k1jwy1p91sts/T/ipykernel_61576/2023163108.py\"\u001b[0;36m, line \u001b[0;32m6\u001b[0m\n\u001b[0;31m    Print(\"mean:\" stats.mean(nums))\u001b[0m\n\u001b[0m                  ^\u001b[0m\n\u001b[0;31mSyntaxError\u001b[0m\u001b[0;31m:\u001b[0m invalid syntax\n"
     ]
    }
   ],
   "source": [
    "#Question 5\n",
    "\n",
    "def math(range):\n",
    "    import statistics as stats\n",
    "    nums = range(0,100)\n",
    "    Print(\"mean:\" stats.mean(nums))\n",
    "    \n",
    "    Print(\"sum:\" sum(range))\n",
    "    \n",
    "    import math \n",
    "    sDmath.sqrt(statistics.pvariance(range))\n",
    "    print(\"standard deviation:\" sD)\n",
    "    \n",
    "    #def math(range):\n",
    "    #sum= sum(range)\n",
    "    #mean = sum/len\n",
    "    \n",
    "math(0,100)   \n",
    "\n"
   ]
  },
  {
   "cell_type": "code",
   "execution_count": 71,
   "id": "943ceea8",
   "metadata": {},
   "outputs": [
    {
     "data": {
      "text/plain": [
       "2"
      ]
     },
     "execution_count": 71,
     "metadata": {},
     "output_type": "execute_result"
    }
   ],
   "source": [
    "#Question 6\n",
    "\n",
    "def minimum(v1,v2,v3,v4):\n",
    "    min_value = v1\n",
    "    if v2 < min_value:\n",
    "        min_value = v2\n",
    "    if v3 < min_value:\n",
    "        min_value = v3\n",
    "    return min_value \n",
    "\n",
    "\n",
    "minimum(2,4,6,8)"
   ]
  },
  {
   "cell_type": "code",
   "execution_count": 57,
   "id": "a6875bb1",
   "metadata": {},
   "outputs": [
    {
     "data": {
      "text/plain": [
       "'It is raining outside'"
      ]
     },
     "execution_count": 57,
     "metadata": {},
     "output_type": "execute_result"
    }
   ],
   "source": [
    "#Question 7 \n",
    "\n",
    "def sentence():\n",
    "    \n",
    "    string1 = (\"It is \")\n",
    "    string2 = (\"raining \")\n",
    "    string3 = (\"outside\")\n",
    "\n",
    "concatenated_list = string1 + string2 + string3\n",
    "\n",
    "concatenated_list"
   ]
  }
 ],
 "metadata": {
  "kernelspec": {
   "display_name": "Python 3 (ipykernel)",
   "language": "python",
   "name": "python3"
  },
  "language_info": {
   "codemirror_mode": {
    "name": "ipython",
    "version": 3
   },
   "file_extension": ".py",
   "mimetype": "text/x-python",
   "name": "python",
   "nbconvert_exporter": "python",
   "pygments_lexer": "ipython3",
   "version": "3.9.13"
  }
 },
 "nbformat": 4,
 "nbformat_minor": 5
}
